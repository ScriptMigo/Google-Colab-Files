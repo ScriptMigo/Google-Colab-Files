{
  "nbformat": 4,
  "nbformat_minor": 0,
  "metadata": {
    "colab": {
      "name": "Building Your First Machine Learning Model: From Start to Finish (Tutorial) | AI 101.ipynb",
      "provenance": [],
      "collapsed_sections": [],
      "include_colab_link": true
    },
    "kernelspec": {
      "name": "python3",
      "display_name": "Python 3"
    }
  },
  "cells": [
    {
      "cell_type": "markdown",
      "metadata": {
        "id": "view-in-github",
        "colab_type": "text"
      },
      "source": [
        "<a href=\"https://colab.research.google.com/github/ScriptMigo/Google-Colab-Files/blob/master/Building_Your_First_Machine_Learning_Model_From_Start_to_Finish_(Tutorial)_%7C_AI_101.ipynb\" target=\"_parent\"><img src=\"https://colab.research.google.com/assets/colab-badge.svg\" alt=\"Open In Colab\"/></a>"
      ]
    },
    {
      "cell_type": "markdown",
      "metadata": {
        "id": "SsN28roPr9tu",
        "colab_type": "text"
      },
      "source": [
        "### Welcome to the tutorial! Today, you're going to build your first machine learning model to classify different clothing. \n",
        "\n",
        "This tutorial accompanyies the [Building Your First Machine Learning Model: From Start to Finish](https://youtu.be/5UTwLoaM_M8) video on [Jordan Harrod's ](https://www.youtube.com/jordanharrod)YouTube channel. Follow along there, or experiment on your own! \n",
        "\n",
        "**To start, you can either click on the arrow in the top left corner of the next code block (next to \"import tensorflow as tf\") or click Copy to Drive on the top left (above this text block) so that you can edit this notebook.**"
      ]
    },
    {
      "cell_type": "code",
      "metadata": {
        "id": "CaKOa69RcdkZ",
        "colab_type": "code",
        "colab": {}
      },
      "source": [
        "# First, we need to import all the code libraries that we'll need for this project. Click the arrow to the left to do so. \n",
        "\n",
        "import tensorflow as tf  # TensorFlow is a popular machine learning library that allows for custom model development \n",
        "import keras  # Keras is also a popular machine learning library - it runs on TensorFlow, making it easier to build models. \n",
        "import numpy as np # Numpy is a library that supports multi-dimensional arrays and computations \n",
        "import matplotlib.pyplot as plt # matplotlib handles graphing \n",
        "\n",
        "# The following lines import specifics model structures from Keras that we'll need later on to build our model. \n",
        "from keras.models import Sequential \n",
        "from keras.layers import Conv2D, Dense, Flatten\n",
        "from keras.datasets import fashion_mnist \n",
        "from keras.preprocessing.image import ImageDataGenerator\n"
      ],
      "execution_count": 0,
      "outputs": []
    },
    {
      "cell_type": "code",
      "metadata": {
        "id": "AAcSSSXfLI4j",
        "colab_type": "code",
        "colab": {}
      },
      "source": [
        "# To start, let's load our data! Click the arrow to the left to do so.  \n",
        "\n",
        "(x_train, y_train), (x_test, y_test) = fashion_mnist.load_data()"
      ],
      "execution_count": 0,
      "outputs": []
    },
    {
      "cell_type": "code",
      "metadata": {
        "id": "hP_lW67yVyGs",
        "colab_type": "code",
        "colab": {}
      },
      "source": [
        "# What does our data look like? Let's get a sample image. Click the arrow to the left to do so. \n",
        "\n",
        "plt.figure()\n",
        "plt.imshow(x_train[0])\n",
        "plt.title('Sample Image')\n",
        "plt.show()"
      ],
      "execution_count": 0,
      "outputs": []
    },
    {
      "cell_type": "code",
      "metadata": {
        "id": "JW_TCKtnV1fU",
        "colab_type": "code",
        "colab": {}
      },
      "source": [
        "# And how much data do we have in each category? Let's create a histogram of the labels to find out. Click the arrow to the left to do so. \n",
        "\n",
        "plt.figure()\n",
        "plt.hist(y_train,  bins=[0,1, 2, 3, 4, 5, 6, 7, 8, 9, 10], ec='black', align='mid')\n",
        "plt.title('Distribution of Training Data')\n",
        "\n",
        "plt.figure()\n",
        "plt.hist(y_test, bins=[0,1, 2, 3, 4, 5, 6, 7, 8, 9, 10], ec='black', align='mid')\n",
        "plt.title('Distribution of Test Data')\n",
        "plt.show()\n",
        " "
      ],
      "execution_count": 0,
      "outputs": []
    },
    {
      "cell_type": "code",
      "metadata": {
        "id": "JHpHmX6HV7UG",
        "colab_type": "code",
        "colab": {}
      },
      "source": [
        "# Alright, time to build our model. Click the arrow to the left to do so, and watch the video to learn more about what each line does. \n",
        "\n",
        "model = Sequential()\n",
        "model.add(Conv2D(input_shape=(28,28,1),filters=2, kernel_size=4, strides=2, padding='same'))\n",
        "model.add(Flatten())\n",
        "model.add(Dense(10, activation='softmax'))\n",
        "\n",
        "model.summary()\n"
      ],
      "execution_count": 0,
      "outputs": []
    },
    {
      "cell_type": "code",
      "metadata": {
        "id": "6sYBNYLIV9K1",
        "colab_type": "code",
        "colab": {}
      },
      "source": [
        "# Now we need to give our model a little extra information before we can train. Click the arrow to the left to do so. \n",
        "opt = keras.optimizers.RMSprop(learning_rate=0.0001, decay=1e-6)\n",
        "\n",
        "model.compile(opt, loss='categorical_crossentropy', metrics=['acc'])\n",
        "\n",
        "\n",
        "# We also need to update the format of our labels, so we'll do it here. \n",
        "y_train = keras.utils.to_categorical(y_train)\n",
        "y_test = keras.utils.to_categorical(y_test)\n"
      ],
      "execution_count": 0,
      "outputs": []
    },
    {
      "cell_type": "code",
      "metadata": {
        "id": "xM4naWpeWA5H",
        "colab_type": "code",
        "colab": {}
      },
      "source": [
        "# Time to train our model! Click the arrow to the left to do so. \n",
        "\n",
        "history = model.fit(x_train[:,:,:, np.newaxis], y_train, batch_size=32, epochs=100)"
      ],
      "execution_count": 0,
      "outputs": []
    },
    {
      "cell_type": "code",
      "metadata": {
        "id": "osAH89TTWC0q",
        "colab_type": "code",
        "colab": {}
      },
      "source": [
        "# Alright, how'd we do? Click the arrow to the left to find out. \n",
        "# The first number in our array is the loss, and the second is the accuracy. Does it match up to the training accuracy? \n",
        "\n",
        "print(model.evaluate(x_test[:,:,:, np.newaxis], y_test))\n",
        "\n",
        "# How did our accuracy and loss change over time? Let's find out. \n",
        "\n",
        "plt.figure()\n",
        "plt.plot(history.history['acc'])\n",
        "plt.title('Accuracy during Training')\n",
        "plt.xlabel('Epochs')\n",
        "\n",
        "plt.figure()\n",
        "plt.plot(history.history['loss'])\n",
        "plt.xlabel('Epochs')\n",
        "plt.title('Loss during Training')\n",
        "plt.show()"
      ],
      "execution_count": 0,
      "outputs": []
    },
    {
      "cell_type": "code",
      "metadata": {
        "id": "VOHfdZ2aWF6t",
        "colab_type": "code",
        "colab": {}
      },
      "source": [
        "# But wait! I just showed our model a shoe, and it thinks it's a shirt (label 6)! What's wrong? \n",
        "shoe = np.rot90(x_train[0])\n",
        "print(np.argmax(model.predict(shoe[np.newaxis,:,:,np.newaxis])))"
      ],
      "execution_count": 0,
      "outputs": []
    },
    {
      "cell_type": "code",
      "metadata": {
        "id": "k-EJrmLQLJk_",
        "colab_type": "code",
        "colab": {}
      },
      "source": [
        "# It turns out that our model has trouble with rotated images - We only trained it on data in one orientation! Let's fix that by rotating some of the data and training again. \n",
        "datagen = ImageDataGenerator(rotation_range=180)\n",
        "datagen.fit(x_train[:,:,:, np.newaxis])\n",
        "\n",
        "model.fit_generator(datagen.flow(x_train[:,:,:, np.newaxis], y_train, batch_size=32), epochs=100)\n",
        "\n",
        "print(model.predict(shoe[np.newaxis,:,:,np.newaxis]))\n",
        "\n",
        "# This will take a bit longer than the first training - about three times longer. At the end of training, see how well your model performs on the rotated image. Is it more accurate? \n"
      ],
      "execution_count": 0,
      "outputs": []
    }
  ]
}